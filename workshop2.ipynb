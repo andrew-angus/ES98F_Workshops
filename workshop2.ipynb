{
 "cells": [
  {
   "cell_type": "code",
   "execution_count": null,
   "id": "b92b5f91-a332-4751-90fd-fa0c56a33319",
   "metadata": {},
   "outputs": [],
   "source": [
    "import numpy as np\n",
    "import matplotlib.pyplot as plt"
   ]
  },
  {
   "cell_type": "markdown",
   "id": "df9ed6ba-4e7f-42eb-ae7f-fe59db90f8a2",
   "metadata": {},
   "source": [
    "## Meshing RVE function"
   ]
  },
  {
   "cell_type": "code",
   "execution_count": null,
   "id": "c8902cde-37a6-422a-9286-108d44476ef4",
   "metadata": {},
   "outputs": [],
   "source": [
    "def mesh(x,y):\n",
    "\n",
    "    # returns [XYZ, CON, DOF] \n",
    "    # XYZ - array of nodal coordinates within RVE [nel x 2]\n",
    "    # CON - array of node numbers for elements (linear QUADS [nel x 4])\n",
    "    # DOF - array of element DOFs (4-node (linear) quadrilateral element => [nel x 8]); \n",
    "    \n",
    "    # number of nodes and element in the RVE\n",
    "    nnodesx = len(x)                     # number of horizontal nodes\n",
    "    nnodesy = len(y)                    # number of vertical nodes \n",
    "    nelx = nnodesx-1                       # number of horizontal elements\n",
    "    nely = nnodesy-1                       # number of vertical elements\n",
    "    nnodes = nnodesx*nnodesy               # total number of nodes    \n",
    "\n",
    "    # length of RVE\n",
    "    lx = x[nnodesx-1] - x[0]           # length of RVE in x-direction (horizontal)\n",
    "    ly = y[nnodesy-1] - y[0]         # length of RVE in y-direction (vertical)\n",
    "\n",
    "    # GENERATE COORDINATES OF NODES 'XYZ'\n",
    "    XYZ = np.zeros((nnodes,2))\n",
    "    for i in range(nnodesy):\n",
    "        for j in range(nnodesx):\n",
    "            XYZ[j+i*nnodesx, :] = [x[j],y[i]]\n",
    "\n",
    "    # NODE NUMBERS FOR ELEMENTS \n",
    "    nel = nelx*nely                              # total number of elements in RVE\n",
    "    CON = np.zeros((nel,4), dtype=int)           # [nel*4] array of node number for each element\n",
    "    for i in range(nely):                        # loop over elements in the vertical direction \n",
    "        for j in range(nelx):                    # loop over elements in the horizontal direction \n",
    "            # element 'el' and corresponding node numbers\n",
    "            CON[j+i*nelx, :] = [j+i*nnodesx, j+i*nnodesx+1,j+(i+1)*nnodesx+1, j+(i+1)*nnodesx] \n",
    "\n",
    "    # Global DOF for each element (4-node (linear) quadrilateral element)\n",
    "    DOF = np.zeros((nel,2*4), dtype=int)\n",
    "    for i in range(nel):\n",
    "        # defines single row of DOF for each element 'i'\n",
    "        DOF[i,:] = [CON[i,0]*2, CON[i,1]*2-1, CON[i,1]*2, CON[i,1]*2+1,CON[i,2]*2, CON[i,2]*2+1, CON[i,3]*2, CON[i,3]*2+1]\n",
    "        \n",
    "    return XYZ, CON, DOF"
   ]
  },
  {
   "cell_type": "markdown",
   "id": "733db3fd-69f4-44c1-aa7e-89e5551ede1c",
   "metadata": {},
   "source": [
    "# Plane Strain"
   ]
  },
  {
   "cell_type": "code",
   "execution_count": null,
   "id": "d49d9234-cfcc-4bc1-b804-99b5eb9b4bab",
   "metadata": {},
   "outputs": [],
   "source": [
    "def plane_strain(E,nu):\n",
    "    \n",
    "    D=np.zeros((3*len(E),3))                                           #elasticity matrix - DIM: [3*element number X 3]\n",
    "    \n",
    "    # Your code here\n",
    "    raise NotImplementedError\n",
    "    \n",
    "    return D"
   ]
  },
  {
   "cell_type": "markdown",
   "id": "fd05e173-0483-49e0-8cc8-8d41be759e24",
   "metadata": {},
   "source": [
    "# Apply Boundary Constraints (Fixed corner nodes and force on left boundary)"
   ]
  },
  {
   "cell_type": "code",
   "execution_count": null,
   "id": "a5c06980-825a-409a-9042-06e9b610735c",
   "metadata": {},
   "outputs": [],
   "source": [
    "# Function which returns global DOFs given fixed corner nodes, and a list of internal left boundary nodes\n",
    "def BC_fun(nxnodes,nynodes,ndofs):\n",
    "    \n",
    "    # Identify corner nodes\n",
    "    # YOUR CODE HERE\n",
    "    corner0 = ...\n",
    "    corner1 = ...\n",
    "    corner2 = ...\n",
    "    corner3 = ...\n",
    "    corners = np.array([corner0,corner1,corner2,corner3])\n",
    "\n",
    "    # Corner DOFs\n",
    "    cornerDOFs = np.r_[corners*2,corners*2+1]\n",
    "\n",
    "    # Get array of DOFs after removing corners\n",
    "    BCcorner = np.arange(ndofs)\n",
    "    BCcorner = np.setdiff1d(BCcorner,cornerDOFs)\n",
    "\n",
    "    # Get left internal boundary nodes\n",
    "    # YOUR CODE HERE\n",
    "    leftnodes = ...\n",
    "    \n",
    "    # Force vector\n",
    "    fl = 50\n",
    "    f = np.zeros((ndofs,1))\n",
    "    f[2*leftnodes] = fl\n",
    "    f = f[BCcorner] # Remove corners\n",
    "    \n",
    "    return BCcorner, f"
   ]
  },
  {
   "cell_type": "markdown",
   "id": "11c4f797-b30d-4ed2-b901-cba7c1e54b92",
   "metadata": {},
   "source": [
    "# Strain-displacement matrix "
   ]
  },
  {
   "cell_type": "code",
   "execution_count": null,
   "id": "60f385b1-adda-459c-bf9d-cec799777149",
   "metadata": {},
   "outputs": [],
   "source": [
    "def dispstrain_B(xyze,xi,eta):\n",
    "    \n",
    "    natcoord = np.array([[-1, 1, 1, -1],[-1, -1, 1, 1]])    #natural nodal coordinates of a quad element\n",
    "\n",
    "    # derivatives of shape functions w.r.t. natural coordinates \n",
    "    dNdnat = np.zeros((2,4))\n",
    "    # YOUR CODE HERE - Implement shape function derivatives\n",
    "\n",
    "    # element Jacobian matrix\n",
    "    Jmat = np.dot(dNdnat,xyze)\n",
    "    J = np.linalg.det(Jmat)                          #determinant of the Jacobian\n",
    "                \n",
    "    JmatInv = np.linalg.inv(Jmat)                   #inverse of the Jacobian matrix\n",
    "    dNdx = np.dot(JmatInv,dNdnat)                   #effectively: Jmat^-1 * dNdna\n",
    "                \n",
    "    #displacement-strain matrix \n",
    "    #linear QUAD element\n",
    "    dsB=np.zeros((3,8))                  #[3 strain components X 8 DOFs]\n",
    "    # YOUR CODE HERE - Implement displacement-strain matrix\n",
    "\n",
    "    return dsB, J"
   ]
  },
  {
   "cell_type": "markdown",
   "id": "70f384d7-6925-4dcf-a214-3d1e50d404c3",
   "metadata": {},
   "source": [
    "# Element stiffness matrix"
   ]
  },
  {
   "cell_type": "code",
   "execution_count": null,
   "id": "fda3dda0-baa6-4f0c-b750-3f5265dd9a44",
   "metadata": {},
   "outputs": [],
   "source": [
    "def keval(xyze,De,th):\n",
    "    \n",
    "    ke = np.zeros((8,8))                                # create element stiffness matrix (array)                    \n",
    "\n",
    "    a = 1/(np.sqrt(3))                                  # location of Gauss points (in natural coordinates)\n",
    "    w = 1                                               # weights\n",
    "    Gauss = np.array([[-a, a, a, -a],[-a, -a, a, a]])   # Gauss points matrix\n",
    "        \n",
    "    for i in range(4):                                # introduce natural coordinates \n",
    "        xi = Gauss[0,i]                                 # natural coordinate - horizontal  \n",
    "        eta = Gauss[1,i]                                # natural coordinate - vertical \n",
    "        \n",
    "        dsB, J = dispstrain_B(xyze,xi,eta);           # evaluate dsB matrix and Jacobian\n",
    "\n",
    "        # YOUR CODE HERE - Update element stiffness matrix\n",
    "        ke += ...\n",
    "        \n",
    "    return ke "
   ]
  },
  {
   "cell_type": "markdown",
   "id": "e6c87ea1-a548-4328-afbf-f69233a1f252",
   "metadata": {},
   "source": [
    "# Global stiffness matrix K"
   ]
  },
  {
   "cell_type": "code",
   "execution_count": null,
   "id": "18a2380b-3e3b-4f60-bb83-f2fbf809d893",
   "metadata": {},
   "outputs": [],
   "source": [
    "def K_matrix(XYZ,CON,DOF,D,th,BCcorner):\n",
    "    \n",
    "    nel = len(CON)                        #number of elements\n",
    "    ndof = 2*len(XYZ)                     #number of DOFs\n",
    "\n",
    "    K = np.zeros((ndof,ndof))\n",
    "\n",
    "    for i in range(nel):\n",
    "        id = DOF[i,:]                      # IDs of DOFs\n",
    "        xyze = XYZ[CON[i,:], :]             # element coordinates\n",
    "        De = D[3*i:3*i+3, 0:3]              # elasticity matrix\n",
    "\n",
    "        ke = keval(xyze,De,th)             # call function evaluating element stiffness matrix\n",
    "\n",
    "        # YOUR CODE HERE - Update global stiffness matrix\n",
    "        raise NotImplementedError\n",
    "\n",
    "    K = K[np.ix_(BCcorner,BCcorner)] # Pin corners\n",
    "    \n",
    "    return K"
   ]
  },
  {
   "cell_type": "markdown",
   "id": "7765dae9-5f50-4764-8cd9-add4ee7bf402",
   "metadata": {},
   "source": [
    "# Deformation Plot"
   ]
  },
  {
   "cell_type": "code",
   "execution_count": null,
   "id": "ccdf20f9-3011-4dfc-9cba-fa4cdfcb1a8a",
   "metadata": {},
   "outputs": [],
   "source": [
    "def deformation_plot(XYZ,CON,d):\n",
    "    ccc1=np.array(XYZ[:,0])\n",
    "    ccc2=np.array(d[0:len(d):2]).reshape(-1)\n",
    "    ccc= np.array(ccc1+ccc2) \n",
    "    \n",
    "    ddd1=np.array(XYZ[:,1])\n",
    "    ddd2=np.array(d[1:len(d):2]).reshape(-1)\n",
    "    ddd= np.array(ddd1+ddd2)\n",
    "    \n",
    "    figure = plt.figure()\n",
    "    plt.plot(XYZ[:,0], XYZ[:, 1],'sk', markersize='10')\n",
    "    plt.plot(XYZ[:,0] + d[0:len(d):2].reshape(-1), XYZ[:,1] + d[1:len(d):2].reshape(-1), 'or',markersize='10')\n",
    "    plt.title(\"Deformed RVE\")\n",
    "    \n",
    "    for i in range(len(CON)):\n",
    "        plt.fill(XYZ[CON[i, :], 0], XYZ[CON[i, :], 1], edgecolor='k', fill=False)\n",
    "        plt.fill(XYZ[CON[i, :], 0] + ccc2[(CON[i, :])], XYZ[CON[i, :], 1] + ddd2[(CON[i, :])], edgecolor='r', fill=False)"
   ]
  },
  {
   "cell_type": "markdown",
   "id": "e5f41efc-7cad-491d-ae82-d845260cf8a7",
   "metadata": {},
   "source": [
    "# Create Mesh"
   ]
  },
  {
   "cell_type": "code",
   "execution_count": null,
   "id": "bf9c25a8-8495-4dd3-abe3-b014e1674f03",
   "metadata": {},
   "outputs": [],
   "source": [
    "# Composite material with 2 phases\n",
    "\n",
    "# Mesh coordinates in x and y directions\n",
    "x = [0, 1, 2, 3]\n",
    "y = [0, 1, 2, 3]\n",
    "nxnodes = len(x)\n",
    "nynodes = len(y)\n",
    "\n",
    "#generate mesh\n",
    "XYZ, CON, DOF = mesh(x,y)\n",
    "ndofs=2*len(XYZ)\n",
    "\n",
    "# Material properties\n",
    "E = np.array([100, 300, 300, 300, 100, 300, 100, 100, 300])\n",
    "nu = np.array([0.2, 0.1, 0.1, 0.1, 0.2, 0.1, 0.2, 0.2, 0.1])\n",
    "th=1"
   ]
  },
  {
   "cell_type": "code",
   "execution_count": null,
   "id": "1a817a03-c45f-4d2d-949a-e9b0de7d71e4",
   "metadata": {},
   "outputs": [],
   "source": [
    "# Plot mesh\n",
    "plt.plot(XYZ[:, 0], XYZ[:, 1], 'sk')\n",
    "for i in range(len(CON)):\n",
    "    plt.fill(XYZ[CON[i, :], 0], XYZ[CON[i, :], 1], edgecolor='k', fill=False)"
   ]
  },
  {
   "cell_type": "markdown",
   "id": "9367a946-421a-4409-b5eb-514018540a10",
   "metadata": {},
   "source": [
    "# Compute Solution without PBCs"
   ]
  },
  {
   "cell_type": "code",
   "execution_count": null,
   "id": "f2be77f8-c2c0-48a4-8130-35d9ee66f137",
   "metadata": {},
   "outputs": [],
   "source": [
    "# Elasticity matrix\n",
    "D = plane_strain(E,nu)\n",
    "\n",
    "# Get boundary conditions (fixed corners and force vector)\n",
    "BCcorner, f = BC_fun(nxnodes,nynodes,ndofs)\n",
    "\n",
    "# Stiffness matrix\n",
    "K = K_matrix(XYZ,CON,DOF,D,th,BCcorner)\n",
    "\n",
    "# Solve reduced problem\n",
    "# YOUR CODE HERE - Get displacement matrix for unconstrained nodes\n",
    "dm = ...\n",
    "\n",
    "# Global displacement vector\n",
    "d = np.zeros((ndofs,1))\n",
    "d[BCcorner] = dm\n",
    "\n",
    "# Plotting\n",
    "deformation_plot(XYZ,CON,d)"
   ]
  },
  {
   "cell_type": "markdown",
   "id": "53b6d77e-95fa-495c-be96-b44fd9742346",
   "metadata": {},
   "source": [
    "# PBC Transformation Matrix"
   ]
  },
  {
   "cell_type": "code",
   "execution_count": null,
   "id": "075be469-bec5-478a-b37a-7446ee72827b",
   "metadata": {},
   "outputs": [],
   "source": [
    "def T_matrix(XYZ,BCcorner):\n",
    "\n",
    "    # Number of nodes\n",
    "    nnodes=len(XYZ) \n",
    "\n",
    "    # Boundary nodes\n",
    "    small = 1e-10\n",
    "    tid1=np.where(abs(XYZ[:,0]-np.amax(XYZ[:,0])) < small)[0] # Boundary 1 (RIGHT) - MASTER\n",
    "    tid2=np.where(abs(XYZ[:,0]-np.amin(XYZ[:,0]))< small)[0] # Boundary 2 (LEFT) - SLAVE\n",
    "    tid3=np.where(abs(XYZ[:,1]-np.amax(XYZ[:,1]))< small)[0] # Boundary 3 (TOP) - MASTER\n",
    "    tid4=np.where(abs(XYZ[:,1]-np.amin(XYZ[:,1]))< small)[0] # Boundary 4 (BOTTOM) - SLAVE  \n",
    "\n",
    "    # Exclude corners from slave node boundaries\n",
    "    tids2=tid2[1:len(tid2)-1]\n",
    "    tids4=tid4[1:len(tid4)-1]\n",
    "\n",
    "    # Get number of slave nodes\n",
    "    ns2nodes = len(tids2)\n",
    "    ns4nodes = len(tids4)\n",
    "    nsnodes = ns2nodes + ns4nodes\n",
    "\n",
    "    # Create G matrix\n",
    "    G=np.zeros((2*nsnodes,2*nnodes),dtype=int)          #create an array [DOFs no of slave nodes x DOFs no of all nodes in RVE]\n",
    "\n",
    "    # loop over slave nodes\n",
    "    for i in range(nsnodes):\n",
    "\n",
    "        # First do left boundary\n",
    "        if i < ns2nodes:\n",
    "            \n",
    "            # slave coefficients\n",
    "            # YOUR CODE HERE - Populate G matrix components with slave node coefficients\n",
    "            slavenode = ...\n",
    "    \n",
    "            # master coefficients\n",
    "            # YOUR CODE HERE - Populate G matrix components with master node coefficients\n",
    "            masternode = ...\n",
    "\n",
    "        # Then top boundary\n",
    "        else:\n",
    "            \n",
    "            # slave coefficients\n",
    "            # YOUR CODE HERE - Populate G matrix components with slave node coefficients\n",
    "            slavenode = ...\n",
    "    \n",
    "            # master coefficients\n",
    "            # YOUR CODE HERE - Populate G matrix components with master node coefficients\n",
    "            masternode = ...\n",
    "\n",
    "    # Construct slave and master DOFs\n",
    "    # Slaves\n",
    "    slavedofs=np.zeros(2*nsnodes,dtype=int);        #array [n x 1] containing total DOF number of slave nodes\n",
    "    b = np.r_[2*tids4,2*tids2]\n",
    "    slavedofs[0:2*nsnodes-1:2] = b\n",
    "    slavedofs[1:2*nsnodes:2] = b + 1\n",
    "\n",
    "    # Masters, remove slaves from bound corner DOFs\n",
    "    masterdofs = np.setdiff1d(BCcorner,slavedofs)\n",
    "    nmnodes = len(masterdofs) // 2\n",
    "\n",
    "    # Master and slave G matrices\n",
    "    Gs=G[:,slavedofs]\n",
    "    Gm=G[:,masterdofs]\n",
    "\n",
    "    # Transformation matrix\n",
    "    T=np.zeros((2*nnodes,2*nmnodes),dtype=int)\n",
    "\n",
    "    # YOUR CODE HERE - Implement transformation matrix\n",
    "    raise NotImplementedError\n",
    "\n",
    "    # Remove fixed corners\n",
    "    T=T[BCcorner,:]\n",
    "    \n",
    "    return T"
   ]
  },
  {
   "cell_type": "markdown",
   "id": "4107b472-98eb-41b2-902d-913bb53190ea",
   "metadata": {},
   "source": [
    "# Compute Solution with PBCs"
   ]
  },
  {
   "cell_type": "code",
   "execution_count": null,
   "id": "1fbee791-afed-495a-9796-38f9bf5d8a16",
   "metadata": {},
   "outputs": [],
   "source": [
    "# Elasticity matrix\n",
    "D = plane_strain(E,nu)\n",
    "\n",
    "# Get boundary conditions (fixed corners and force vector)\n",
    "BCcorner,f = BC_fun(nxnodes,nynodes,ndofs)\n",
    "\n",
    "# Periodic boundary transform matrix\n",
    "T = T_matrix(XYZ,BCcorner)\n",
    "\n",
    "# Stiffness matrix\n",
    "K = K_matrix(XYZ,CON,DOF,D,th,BCcorner)\n",
    "\n",
    "# Modified stiffness matrix with PBCs\n",
    "# YOUR CODE HERE - Modify stiffness matrix to account for periodic boundary conditions\n",
    "Km = ...\n",
    "\n",
    "# YOUR CODE HERE - Modify force matrix to account for periodic boundary conditions\n",
    "fm = ...\n",
    "\n",
    "# YOUR CODE HERE - solve for displacement matrix of unconstrained nodes\n",
    "dm = ...\n",
    "\n",
    "# YOUR CODE HERE - final modification of displacement vector to account for periodic boundary condition transform\n",
    "dms = ...\n",
    "\n",
    "# Global displacement vector\n",
    "d = np.zeros((ndofs,1))\n",
    "d[BCcorner] = dms\n",
    "\n",
    "# Plotting\n",
    "deformation_plot(XYZ,CON,d)"
   ]
  }
 ],
 "metadata": {
  "kernelspec": {
   "display_name": "Python 3 (ipykernel)",
   "language": "python",
   "name": "python3"
  },
  "language_info": {
   "codemirror_mode": {
    "name": "ipython",
    "version": 3
   },
   "file_extension": ".py",
   "mimetype": "text/x-python",
   "name": "python",
   "nbconvert_exporter": "python",
   "pygments_lexer": "ipython3",
   "version": "3.10.12"
  }
 },
 "nbformat": 4,
 "nbformat_minor": 5
}
