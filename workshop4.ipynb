{
 "cells": [
  {
   "cell_type": "code",
   "execution_count": null,
   "id": "b92b5f91-a332-4751-90fd-fa0c56a33319",
   "metadata": {},
   "outputs": [],
   "source": [
    "import numpy as np\n",
    "import matplotlib.pyplot as plt"
   ]
  },
  {
   "cell_type": "markdown",
   "id": "df9ed6ba-4e7f-42eb-ae7f-fe59db90f8a2",
   "metadata": {},
   "source": [
    "## Meshing RVE function"
   ]
  },
  {
   "cell_type": "code",
   "execution_count": null,
   "id": "c8902cde-37a6-422a-9286-108d44476ef4",
   "metadata": {},
   "outputs": [],
   "source": [
    "def mesh(x,y):\n",
    "\n",
    "    # returns [XYZ, CON, DOF] \n",
    "    # XYZ - array of nodal coordinates within RVE [nel x 2]\n",
    "    # CON - array of node numbers for elements (linear QUADS [nel x 4])\n",
    "    # DOF - array of element DOFs (4-node (linear) quadrilateral element => [nel x 8]); \n",
    "    \n",
    "    # number of nodes and element in the RVE\n",
    "    nnodesx = len(x)                     # number of horizontal nodes\n",
    "    nnodesy = len(y)                    # number of vertical nodes \n",
    "    nelx = nnodesx-1                       # number of horizontal elements\n",
    "    nely = nnodesy-1                       # number of vertical elements\n",
    "    nnodes = nnodesx*nnodesy               # total number of nodes    \n",
    "\n",
    "    # GENERATE COORDINATES OF NODES 'XYZ'\n",
    "    XYZ = np.zeros((nnodes,2))\n",
    "    for i in range(nnodesy):\n",
    "        for j in range(nnodesx):\n",
    "            XYZ[j+i*nnodesx, :] = [x[j],y[i]]\n",
    "\n",
    "    # NODE NUMBERS FOR ELEMENTS \n",
    "    nel = nelx*nely                              # total number of elements in RVE\n",
    "    CON = np.zeros((nel,4), dtype=int)           # [nel*4] array of node number for each element\n",
    "    for i in range(nely):                        # loop over elements in the vertical direction \n",
    "        for j in range(nelx):                    # loop over elements in the horizontal direction \n",
    "            # element 'el' and corresponding node numbers\n",
    "            CON[j+i*nelx, :] = [j+i*nnodesx, j+i*nnodesx+1,j+(i+1)*nnodesx+1, j+(i+1)*nnodesx] \n",
    "\n",
    "    # Global DOF for each element (4-node (linear) quadrilateral element)\n",
    "    DOF = np.zeros((nel,2*4), dtype=int)\n",
    "    for i in range(nel):\n",
    "        # defines single row of DOF for each element 'i'\n",
    "        DOF[i,:] = [CON[i,0]*2, CON[i,1]*2-1, CON[i,1]*2, CON[i,1]*2+1,CON[i,2]*2, CON[i,2]*2+1, CON[i,3]*2, CON[i,3]*2+1]\n",
    "        \n",
    "    return XYZ, CON, DOF"
   ]
  },
  {
   "cell_type": "markdown",
   "id": "61690dc9-b3dc-46bd-9ada-cd41db749eac",
   "metadata": {},
   "source": [
    "# Create Mesh"
   ]
  },
  {
   "cell_type": "code",
   "execution_count": null,
   "id": "434a9955-3c9f-40e4-8875-4c859a98e240",
   "metadata": {},
   "outputs": [],
   "source": [
    "# Composite material with 2 phases\n",
    "\n",
    "# Mesh coordinates in x and y directions\n",
    "x = [0, 1, 2, 3]\n",
    "y = [0, 1, 2, 3]\n",
    "nxnodes = len(x)\n",
    "nynodes = len(y)\n",
    "\n",
    "#generate mesh\n",
    "XYZ, CON, DOF = mesh(x,y)\n",
    "ndofs=2*len(XYZ)\n",
    "th=1"
   ]
  },
  {
   "cell_type": "code",
   "execution_count": null,
   "id": "9d10baaa-2012-4df8-8621-021dd96584e4",
   "metadata": {},
   "outputs": [],
   "source": [
    "# Plot mesh\n",
    "plt.plot(XYZ[:, 0], XYZ[:, 1], 'sk')\n",
    "for i in range(len(CON)):\n",
    "    plt.fill(XYZ[CON[i, :], 0], XYZ[CON[i, :], 1], edgecolor='k', fill=False)"
   ]
  },
  {
   "cell_type": "markdown",
   "id": "733db3fd-69f4-44c1-aa7e-89e5551ede1c",
   "metadata": {},
   "source": [
    "# Plane Strain"
   ]
  },
  {
   "cell_type": "code",
   "execution_count": null,
   "id": "d49d9234-cfcc-4bc1-b804-99b5eb9b4bab",
   "metadata": {},
   "outputs": [],
   "source": [
    "def plane_strain(E,nu):\n",
    "    \n",
    "    D=np.zeros((3*len(E),3))                                           #elasticity matrix - DIM: [3*element number X 3]\n",
    "    \n",
    "    # Your code here\n",
    "    raise NotImplementedError\n",
    "    \n",
    "    return D"
   ]
  },
  {
   "cell_type": "markdown",
   "id": "fd05e173-0483-49e0-8cc8-8d41be759e24",
   "metadata": {},
   "source": [
    "# Apply Boundary Constraints (Fixed corner nodes)"
   ]
  },
  {
   "cell_type": "code",
   "execution_count": null,
   "id": "a5c06980-825a-409a-9042-06e9b610735c",
   "metadata": {},
   "outputs": [],
   "source": [
    "# Function which returns global DOFs given fixed corner nodes, and a list of internal left boundary nodes\n",
    "def BCcorner_fun(nxnodes,nynodes,ndofs):\n",
    "    \n",
    "    # Identify corner nodes\n",
    "    # YOUR CODE HERE\n",
    "    corner0 = ...\n",
    "    corner1 = ...\n",
    "    corner2 = ...\n",
    "    corner3 = ...\n",
    "    corners = np.array([corner0,corner1,corner2,corner3])\n",
    "\n",
    "    # Corner DOFs\n",
    "    cornerDOFs = np.r_[corners*2,corners*2+1]\n",
    "\n",
    "    # Get array of DOFs after removing corners\n",
    "    BCcorner = np.arange(ndofs)\n",
    "    BCcorner = np.setdiff1d(BCcorner,cornerDOFs)\n",
    "    \n",
    "    return BCcorner"
   ]
  },
  {
   "cell_type": "markdown",
   "id": "11c4f797-b30d-4ed2-b901-cba7c1e54b92",
   "metadata": {},
   "source": [
    "# Strain-displacement matrix "
   ]
  },
  {
   "cell_type": "code",
   "execution_count": null,
   "id": "60f385b1-adda-459c-bf9d-cec799777149",
   "metadata": {},
   "outputs": [],
   "source": [
    "def dispstrain_B(xyze,xi,eta):\n",
    "    \n",
    "    natcoord = np.array([[-1, 1, 1, -1],[-1, -1, 1, 1]])    #natural nodal coordinates of a quad element\n",
    "\n",
    "    # derivatives of shape functions w.r.t. natural coordinates \n",
    "    dNdnat = np.zeros((2,4))\n",
    "    # YOUR CODE HERE - Implement shape function derivatives\n",
    "\n",
    "    # element Jacobian matrix\n",
    "    Jmat = np.dot(dNdnat,xyze)\n",
    "    J = np.linalg.det(Jmat)                          #determinant of the Jacobian\n",
    "                \n",
    "    JmatInv = np.linalg.inv(Jmat)                   #inverse of the Jacobian matrix\n",
    "    dNdx = np.dot(JmatInv,dNdnat)                   #effectively: Jmat^-1 * dNdna\n",
    "                \n",
    "    #displacement-strain matrix \n",
    "    #linear QUAD element\n",
    "    dsB=np.zeros((3,8))                  #[3 strain components X 8 DOFs]\n",
    "    # YOUR CODE HERE - Implement displacement-strain matrix\n",
    "\n",
    "    return dsB, J"
   ]
  },
  {
   "cell_type": "markdown",
   "id": "70f384d7-6925-4dcf-a214-3d1e50d404c3",
   "metadata": {},
   "source": [
    "# Element stiffness matrix"
   ]
  },
  {
   "cell_type": "code",
   "execution_count": null,
   "id": "fda3dda0-baa6-4f0c-b750-3f5265dd9a44",
   "metadata": {},
   "outputs": [],
   "source": [
    "def keval(xyze,De,th):\n",
    "    \n",
    "    ke = np.zeros((8,8))                                # create element stiffness matrix (array)                    \n",
    "\n",
    "    a = 1/(np.sqrt(3))                                  # location of Gauss points (in natural coordinates)\n",
    "    w = 1                                               # weights\n",
    "    Gauss = np.array([[-a, a, a, -a],[-a, -a, a, a]])   # Gauss points matrix\n",
    "        \n",
    "    for i in range(4):                                # introduce natural coordinates \n",
    "        xi = Gauss[0,i]                                 # natural coordinate - horizontal  \n",
    "        eta = Gauss[1,i]                                # natural coordinate - vertical \n",
    "        \n",
    "        dsB, J = dispstrain_B(xyze,xi,eta);           # evaluate dsB matrix and Jacobian\n",
    "\n",
    "        # YOUR CODE HERE - Update element stiffness matrix\n",
    "        ke += ...\n",
    "        \n",
    "    return ke "
   ]
  },
  {
   "cell_type": "markdown",
   "id": "e6c87ea1-a548-4328-afbf-f69233a1f252",
   "metadata": {},
   "source": [
    "# Global stiffness matrix K"
   ]
  },
  {
   "cell_type": "code",
   "execution_count": null,
   "id": "18a2380b-3e3b-4f60-bb83-f2fbf809d893",
   "metadata": {},
   "outputs": [],
   "source": [
    "def K_matrix(XYZ,CON,DOF,D,th,BCcorner):\n",
    "    \n",
    "    nel = len(CON)                        #number of elements\n",
    "    ndof = 2*len(XYZ)                     #number of DOFs\n",
    "\n",
    "    K = np.zeros((ndof,ndof))\n",
    "\n",
    "    for i in range(nel):\n",
    "        id = DOF[i,:]                      # IDs of DOFs\n",
    "        xyze = XYZ[CON[i,:], :]             # element coordinates\n",
    "        De = D[3*i:3*i+3, 0:3]              # elasticity matrix\n",
    "\n",
    "        ke = keval(xyze,De,th)             # call function evaluating element stiffness matrix\n",
    "\n",
    "        # YOUR CODE HERE - Update global stiffness matrix\n",
    "        raise NotImplementedError\n",
    "\n",
    "    K = K[np.ix_(BCcorner,BCcorner)] # Pin corners\n",
    "    \n",
    "    return K"
   ]
  },
  {
   "cell_type": "markdown",
   "id": "7765dae9-5f50-4764-8cd9-add4ee7bf402",
   "metadata": {},
   "source": [
    "# Deformation Plot"
   ]
  },
  {
   "cell_type": "code",
   "execution_count": null,
   "id": "ccdf20f9-3011-4dfc-9cba-fa4cdfcb1a8a",
   "metadata": {},
   "outputs": [],
   "source": [
    "def deformation_plot(XYZ,CON,d):\n",
    "    ccc1=np.array(XYZ[:,0])\n",
    "    ccc2=np.array(d[0:len(d):2]).reshape(-1)\n",
    "    ccc= np.array(ccc1+ccc2) \n",
    "    \n",
    "    ddd1=np.array(XYZ[:,1])\n",
    "    ddd2=np.array(d[1:len(d):2]).reshape(-1)\n",
    "    ddd= np.array(ddd1+ddd2)\n",
    "    \n",
    "    figure = plt.figure()\n",
    "    plt.plot(XYZ[:,0], XYZ[:, 1],'sk', markersize='10')\n",
    "    plt.plot(XYZ[:,0] + d[0:len(d):2].reshape(-1), XYZ[:,1] + d[1:len(d):2].reshape(-1), 'or',markersize='10')\n",
    "    plt.title(\"Deformed RVE\")\n",
    "    \n",
    "    for i in range(len(CON)):\n",
    "        plt.fill(XYZ[CON[i, :], 0], XYZ[CON[i, :], 1], edgecolor='k', fill=False)\n",
    "        plt.fill(XYZ[CON[i, :], 0] + ccc2[(CON[i, :])], XYZ[CON[i, :], 1] + ddd2[(CON[i, :])], edgecolor='r', fill=False)"
   ]
  },
  {
   "cell_type": "markdown",
   "id": "53b6d77e-95fa-495c-be96-b44fd9742346",
   "metadata": {},
   "source": [
    "# PBC Transformation Matrix"
   ]
  },
  {
   "cell_type": "code",
   "execution_count": null,
   "id": "075be469-bec5-478a-b37a-7446ee72827b",
   "metadata": {},
   "outputs": [],
   "source": [
    "def T_matrix(XYZ,BCcorner):\n",
    "\n",
    "    # Number of nodes\n",
    "    nnodes=len(XYZ) \n",
    "\n",
    "    # Boundary nodes\n",
    "    small = 1e-10\n",
    "    tid1=np.where(abs(XYZ[:,0]-np.amax(XYZ[:,0])) < small)[0] # Boundary 1 (RIGHT) - MASTER\n",
    "    tid2=np.where(abs(XYZ[:,0]-np.amin(XYZ[:,0]))< small)[0] # Boundary 2 (LEFT) - SLAVE\n",
    "    tid3=np.where(abs(XYZ[:,1]-np.amax(XYZ[:,1]))< small)[0] # Boundary 3 (TOP) - MASTER\n",
    "    tid4=np.where(abs(XYZ[:,1]-np.amin(XYZ[:,1]))< small)[0] # Boundary 4 (BOTTOM) - SLAVE  \n",
    "\n",
    "    # Exclude corners from slave node boundaries\n",
    "    tids2=tid2[1:len(tid2)-1]\n",
    "    tids4=tid4[1:len(tid4)-1]\n",
    "\n",
    "    # Get number of slave nodes\n",
    "    ns2nodes = len(tids2)\n",
    "    ns4nodes = len(tids4)\n",
    "    nsnodes = ns2nodes + ns4nodes\n",
    "\n",
    "    # Create G matrix\n",
    "    G=np.zeros((2*nsnodes,2*nnodes),dtype=int)          #create an array [DOFs no of slave nodes x DOFs no of all nodes in RVE]\n",
    "\n",
    "    # loop over slave nodes\n",
    "    for i in range(nsnodes):\n",
    "\n",
    "        # First do left boundary\n",
    "        if i < ns2nodes:\n",
    "            \n",
    "            # slave coefficients\n",
    "            # YOUR CODE HERE - Populate G matrix components with slave node coefficients\n",
    "            slavenode = ...\n",
    "    \n",
    "            # master coefficients\n",
    "            # YOUR CODE HERE - Populate G matrix components with master node coefficients\n",
    "            masternode = ...\n",
    "\n",
    "        # Then top boundary\n",
    "        else:\n",
    "            \n",
    "            # slave coefficients\n",
    "            # YOUR CODE HERE - Populate G matrix components with slave node coefficients\n",
    "            slavenode = ...\n",
    "    \n",
    "            # master coefficients\n",
    "            # YOUR CODE HERE - Populate G matrix components with master node coefficients\n",
    "            masternode = ...\n",
    "\n",
    "    # Construct slave and master DOFs\n",
    "    # Slaves\n",
    "    slavedofs=np.zeros(2*nsnodes,dtype=int);        #array [n x 1] containing total DOF number of slave nodes\n",
    "    b = np.r_[2*tids4,2*tids2]\n",
    "    slavedofs[0:2*nsnodes-1:2] = b\n",
    "    slavedofs[1:2*nsnodes:2] = b + 1\n",
    "\n",
    "    # Masters, remove slaves from bound corner DOFs\n",
    "    masterdofs = np.setdiff1d(BCcorner,slavedofs)\n",
    "    nmnodes = len(masterdofs) // 2\n",
    "\n",
    "    # Master and slave G matrices\n",
    "    Gs=G[:,slavedofs]\n",
    "    Gm=G[:,masterdofs]\n",
    "\n",
    "    # Transformation matrix\n",
    "    T=np.zeros((2*nnodes,2*nmnodes),dtype=int)\n",
    "\n",
    "    # YOUR CODE HERE - Implement transformation matrix\n",
    "    raise NotImplementedError\n",
    "\n",
    "    # Remove fixed corners\n",
    "    T=T[BCcorner,:]\n",
    "    \n",
    "    return T"
   ]
  },
  {
   "cell_type": "markdown",
   "id": "0f0ebad9-a138-4973-8195-79637b2f06b0",
   "metadata": {},
   "source": [
    "# Element load vector"
   ]
  },
  {
   "cell_type": "code",
   "execution_count": null,
   "id": "2412e98c-aea3-4256-a0e7-58bb63345074",
   "metadata": {},
   "outputs": [],
   "source": [
    "def reval(xyze,De,th,eps):\n",
    "                \n",
    "    re=np.zeros((8,1))                                  # create element load vector                    \n",
    "\n",
    "    a=1/(np.sqrt(3))                                  # location of Gauss points (in natural coordinates)\n",
    "    w=1                                               # weights\n",
    "    Gauss = np.array([[-a, a, a, -a],[-a, -a, a, a]]) # Gauss points matrix\n",
    "        \n",
    "    for i in range(4):                                # introduce natural coordinates \n",
    "        xi=Gauss[0,i]                                 # natural coordinate - horizontal  \n",
    "        eta=Gauss[1,i]                                # natural coordinate - vertical \n",
    "        \n",
    "        dsB, J = dispstrain_B(xyze,xi,eta)            # evaluate dsB matrix and Jacobian\n",
    "    \n",
    "        re += ...\n",
    "        \n",
    "    return re "
   ]
  },
  {
   "cell_type": "markdown",
   "id": "72f7eb8c-60a6-4bb3-b26a-7d58fc8b473d",
   "metadata": {},
   "source": [
    "# Global load vector"
   ]
  },
  {
   "cell_type": "code",
   "execution_count": null,
   "id": "11b07879-5f63-4a34-aabd-69ef582ca4ee",
   "metadata": {},
   "outputs": [],
   "source": [
    "def r_vector(XYZ, CON, DOF, D, th, eps, BCcorner):\n",
    "    \n",
    "    nel=len(CON)                        #number of elements\n",
    "    ndof=2*len(XYZ)                     #number of DOFs\n",
    "\n",
    "    r=np.zeros((ndof,1))                  #create load vector\n",
    "\n",
    "    for i in range(nel):\n",
    "        id=DOF[i,:]                      # IDs of DOFs\n",
    "        xyze=XYZ[CON[i,:],:]             # element coordinates\n",
    "        De=D[3*i:3*i+3,0:3]              # elasticity matrix\n",
    "\n",
    "        re = reval(xyze,De,th,eps)  # call function evaluating element stiffness matrix\n",
    "    \n",
    "        r[np.ix_(id)] += re         # global load vector\n",
    "\n",
    "    r = -r[np.ix_(BCcorner)] # Constrain corners\n",
    "    \n",
    "    return r"
   ]
  },
  {
   "cell_type": "markdown",
   "id": "622aa0fc-5e46-45b9-a80f-343f462d3979",
   "metadata": {},
   "source": [
    "# Average stress"
   ]
  },
  {
   "cell_type": "code",
   "execution_count": null,
   "id": "4b3f65ac-d6a3-48a4-9d30-cd6713a80792",
   "metadata": {},
   "outputs": [],
   "source": [
    "def sigmaHomo_vector(XYZ,CON,DOF,D,eps,d):\n",
    "    \n",
    "    nel=len(CON)                                            # number of elements    \n",
    "    \n",
    "    re=np.zeros((8,1))                                  # create element load vector                    \n",
    "\n",
    "    a=1/(np.sqrt(3))                                    # location of Gauss points (in natural coordinates)\n",
    "    w=1                                                 # weights\n",
    "    Gauss = np.array([[-a, a, a, -a],[-a, -a, a, a]])   # Gauss points matrix\n",
    "\n",
    "    sigma = np.zeros((3,1))                             # stress (Voigt notation)\n",
    "    vol = 0\n",
    "    \n",
    "    for i in range(nel):\n",
    "        id = DOF[i,:]                                     # IDs of DOFs\n",
    "        xyze = XYZ[CON[i,:],:]                            # element coordinates\n",
    "        De = D[3*i:3*i+3,0:3]                             # elasticity matrix\n",
    "        de = d[id]\n",
    "        \n",
    "        for j in range(4):                                # introduce natural coordinates \n",
    "            xi=Gauss[0,j]                                 # natural coordinate - horizontal  \n",
    "            eta=Gauss[1,j]                                # natural coordinate - vertical \n",
    "        \n",
    "            dsB, J = dispstrain_B(xyze,xi,eta)            # evaluate dsB matrix and Jacobian\n",
    "       \n",
    "            sigmaGauss = ...                  # stresses at j-th Gauss point within i-th element\n",
    "            \n",
    "            sigma += sigmaGauss*J*w               # sum of the stresses over all Gauss points in i-th element\n",
    "\n",
    "            vol += J                                # sum of the integration point volumes \n",
    "                \n",
    "    sigmaHomo = sigma/vol                                    # vol = RVE volume \n",
    "    \n",
    "    return sigmaHomo"
   ]
  },
  {
   "cell_type": "markdown",
   "id": "8a7989c2-4b88-47b5-9af9-e1f812cc3a19",
   "metadata": {},
   "source": [
    "# Compute Homogenisation of 11 Component of Elasticity Matrix"
   ]
  },
  {
   "cell_type": "markdown",
   "id": "bac7f641-d3cb-4659-a5df-683abca0678c",
   "metadata": {},
   "source": [
    "Function takes variable inputs for Young's modulii, Poison's ratios, and volume fraction"
   ]
  },
  {
   "cell_type": "code",
   "execution_count": null,
   "id": "cb618ca7-0e6e-4fdb-95be-d03d468c7095",
   "metadata": {},
   "outputs": [],
   "source": [
    "def C11_homo(x,plot=False):\n",
    "\n",
    "    # Extract inputs\n",
    "    vFrac, E1, E2frac, nu1, nu2frac = x\n",
    "    E2 = E1*E2frac\n",
    "    nu2 = nu1*nu2frac\n",
    "\n",
    "    # Create material property vectors\n",
    "    nlayer = (nxnodes-1)*(nynodes-1)\n",
    "    vFracs = np.linspace(0,1,nlayer+1)\n",
    "    vFrac = vFracs[np.argmin(np.abs(vFracs-vFrac))]\n",
    "    vFrac = Fraction(vFrac).limit_denominator()\n",
    "    ndlayer = nlayer//vFrac.denominator*vFrac.numerator\n",
    "    layerid = np.random.choice(nlayer,size=ndlayer,replace=False)\n",
    "    E = np.ones(nlayer)*E1\n",
    "    nu = np.ones(nlayer)*nu1\n",
    "    E[layerid] = E2\n",
    "    nu[layerid] = nu2\n",
    "    \n",
    "    # Elasticity matrix\n",
    "    D = plane_strain(E,nu)\n",
    "    \n",
    "    # Get boundary conditions (fixed corners and force vector)\n",
    "    BCcorner = BCcorner_fun(nxnodes,nynodes,ndofs)\n",
    "    \n",
    "    # Periodic boundary transform matrix\n",
    "    T = T_matrix(XYZ,BCcorner)\n",
    "    \n",
    "    # Stiffness matrix\n",
    "    K = K_matrix(XYZ,CON,DOF,D,th,BCcorner)\n",
    "    \n",
    "    # Modified stiffness matrix with PBCs\n",
    "    Km = ...\n",
    "    \n",
    "    eps=np.zeros((3,1))                   # unit strain matrix (array in Voigt notation) \n",
    "    eps[0,0] = 1                          # given unit strain component \n",
    "    \n",
    "    # load vector\n",
    "    r = r_vector(XYZ, CON, DOF, D, th, eps, BCcorner)\n",
    " \n",
    "    rm = ...                    # modified force vector with PBC\n",
    "    dm = ...           # modified displacement components (for slave and master DOFs)\n",
    "    dms = ...                    # displacement vector reduced problem solution\n",
    "\n",
    "    # Global displacement vector\n",
    "    d = np.zeros((ndofs,1))\n",
    "    d[BCcorner] = dms\n",
    "    \n",
    "    # Calculate average stresses in the RVE\n",
    "    sigmaHomo = sigmaHomo_vector(XYZ, CON, DOF, D, eps, d)\n",
    "    C11 = sigmaHomo[0,0]\n",
    "\n",
    "    # Plotting\n",
    "    if plot:\n",
    "        deformation_plot(XYZ,CON,d)\n",
    "\n",
    "    return C11"
   ]
  },
  {
   "cell_type": "markdown",
   "id": "f253f79c-e299-417a-8bbb-d763f069e562",
   "metadata": {},
   "source": [
    "# Test Case"
   ]
  },
  {
   "cell_type": "code",
   "execution_count": null,
   "id": "d7514133-aae0-46c1-aa90-10dca38bcd2c",
   "metadata": {},
   "outputs": [],
   "source": [
    "x = [4/9,300e9,0.333,0.2,0.5]\n",
    "C11_homo(x,plot=True)"
   ]
  },
  {
   "cell_type": "markdown",
   "id": "ca9696c4-548e-460d-8aa1-0167f9c0e7e7",
   "metadata": {},
   "source": [
    "# Gaussian Process Regression"
   ]
  },
  {
   "cell_type": "code",
   "execution_count": null,
   "id": "f76ffe5f-c1af-4b9b-8fc2-effb769a85b7",
   "metadata": {},
   "outputs": [],
   "source": [
    "from andvaranaut import *\n",
    "import scipy.stats as st"
   ]
  },
  {
   "cell_type": "code",
   "execution_count": null,
   "id": "39af3743-ec7a-4136-b3e5-6a735ebbb7e4",
   "metadata": {},
   "outputs": [],
   "source": [
    "# Set prior distributions on inputs\n",
    "vFrac = st.uniform(loc=0,scale=1) # Dispersed phase volume fraction\n",
    "E1 = st.uniform(loc=200,scale=400) # E1\n",
    "E2frac = st.uniform(loc=0.2,scale=0.5) # E2/E1\n",
    "nu1 = st.uniform(loc=0.15,scale=0.2) # nu1\n",
    "nu2frac = st.uniform(loc=0.2,scale=0.5) # nu2/nu1\n",
    "priors = [vFrac,E1,E2frac,nu1,nu2frac]"
   ]
  },
  {
   "cell_type": "code",
   "execution_count": null,
   "id": "635ba0c8-79ea-4c2d-ad1b-864baa2cab8d",
   "metadata": {},
   "outputs": [],
   "source": [
    "# Initialise GP object\n",
    "g = GPMCMC(nx=5,ny=1,target=C11_homo,priors=priors,kernel='RBF',noise=True,verbose=True)"
   ]
  },
  {
   "cell_type": "code",
   "execution_count": null,
   "id": "4ee32122-4d95-44c8-9e61-c4c0d2902bc2",
   "metadata": {},
   "outputs": [],
   "source": [
    "# Evaluate samples from priors\n",
    "g.sample(256)"
   ]
  },
  {
   "cell_type": "code",
   "execution_count": null,
   "id": "cc880d8e-6adf-4057-8b86-055ebd41b1ca",
   "metadata": {},
   "outputs": [],
   "source": [
    "# Trim volume fraction data to fit discrete values allowed by 9 element system\n",
    "vFracs = np.linspace(0,1,10)\n",
    "g.x[:,0] = np.array([vFracs[np.argmin(np.abs(vFracs-i))] for i in g.x[:,0]])"
   ]
  },
  {
   "cell_type": "code",
   "execution_count": null,
   "id": "dd0bf997-9270-4f71-bfd0-32a07903f9b0",
   "metadata": {},
   "outputs": [],
   "source": [
    "# Fit GP using PyMC\n",
    "g.fit()"
   ]
  },
  {
   "cell_type": "code",
   "execution_count": null,
   "id": "07953fc3-f6f6-48d8-b6a2-dd4f354dc534",
   "metadata": {},
   "outputs": [],
   "source": [
    "# Check hyperparameters\n",
    "print(f'Gaussian noise: {g.hypers[\"gv\"]}')\n",
    "print(f'Kernel noise: {g.hypers[\"kv\"]}')\n",
    "print(f'Kernel lengthscales: {g.hypers[\"l\"]}')"
   ]
  },
  {
   "cell_type": "code",
   "execution_count": null,
   "id": "c23a5554-3434-4ca9-8ff2-ab2706279fb6",
   "metadata": {},
   "outputs": [],
   "source": [
    "# Acquire train and test sets\n",
    "g.train_test(training_frac=0.8)\n",
    "\n",
    "# Plot test predicitions vs actual function\n",
    "g.test_plots(xplots=False)"
   ]
  },
  {
   "cell_type": "code",
   "execution_count": null,
   "id": "50fd9c2b-2dea-45a5-8fed-cd7cb15fb179",
   "metadata": {},
   "outputs": [],
   "source": [
    "# Add pre-processing of input and output data\n",
    "xconrevs = [maxmin(g.x[:,i]) for i in range(g.nx)] # Scale x data to range [0,1] by max and min values\n",
    "yconrevs = [meanstd(g.y[:,0])] # Scale y data by subtracting mean and dividing by standard deviation\n",
    "g.change_conrevs(xconrevs=xconrevs,yconrevs=yconrevs)"
   ]
  },
  {
   "cell_type": "code",
   "execution_count": null,
   "id": "d972d242-f9d4-463f-9985-0fc7c46419b6",
   "metadata": {},
   "outputs": [],
   "source": [
    "# Re-fit GP\n",
    "g.fit()"
   ]
  },
  {
   "cell_type": "code",
   "execution_count": null,
   "id": "6368ba36-a239-4880-b0a1-98d2692047aa",
   "metadata": {},
   "outputs": [],
   "source": [
    "# Check hyperparameters\n",
    "print(f'Gaussian noise: {g.hypers[\"gv\"]}')\n",
    "print(f'Kernel noise: {g.hypers[\"kv\"]}')\n",
    "print(f'Kernel lengthscales: {g.hypers[\"l\"]}')"
   ]
  },
  {
   "cell_type": "code",
   "execution_count": null,
   "id": "3ecc4509-283d-4fdf-994a-85c55177dfe5",
   "metadata": {},
   "outputs": [],
   "source": [
    "# Check performance on same test set as previously\n",
    "g.test_plots(xplots=False)"
   ]
  },
  {
   "cell_type": "code",
   "execution_count": null,
   "id": "a90cac18-95c2-4fea-8093-061c5e1f07c4",
   "metadata": {},
   "outputs": [],
   "source": [
    "# Predict at new x at volume fraction outwith our discrete limitations\n",
    "xtest = np.array([[i.rvs() for i in priors]])\n",
    "gpred, gpredvar = g.predict(xtest,return_var=True)"
   ]
  },
  {
   "cell_type": "code",
   "execution_count": null,
   "id": "fa78574e-8b74-455d-89c2-aa62ca9ccb7b",
   "metadata": {},
   "outputs": [],
   "source": [
    "# Get result at nearest discrete volume fraction for comparison\n",
    "# and account for randomness with 100 realisations\n",
    "evals = 100\n",
    "ycloses = np.zeros(evals)\n",
    "for i in range(evals):\n",
    "    ycloses[i] = C11_homo(xtest[0])\n",
    "yclose = np.mean(ycloses)\n",
    "yclosestd = np.std(ycloses)"
   ]
  },
  {
   "cell_type": "code",
   "execution_count": null,
   "id": "48953588-3c55-4476-8036-42b8c236c676",
   "metadata": {},
   "outputs": [],
   "source": [
    "# Compare results\n",
    "with np.printoptions(precision=3, suppress=True):\n",
    "    print(f'Test point is: {xtest[0]}')\n",
    "    print(f'GP prediction is {gpred[0,0]:0.3f} +- {np.sqrt(gpredvar[0,0]):0.3f}')\n",
    "    print(f'Result at nearest discrete volume fraction is {yclose:0.3f} +- {yclosestd:0.3f}')"
   ]
  }
 ],
 "metadata": {
  "kernelspec": {
   "display_name": "Python 3 (ipykernel)",
   "language": "python",
   "name": "python3"
  },
  "language_info": {
   "codemirror_mode": {
    "name": "ipython",
    "version": 3
   },
   "file_extension": ".py",
   "mimetype": "text/x-python",
   "name": "python",
   "nbconvert_exporter": "python",
   "pygments_lexer": "ipython3",
   "version": "3.10.12"
  }
 },
 "nbformat": 4,
 "nbformat_minor": 5
}
